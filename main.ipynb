{
 "cells": [
  {
   "cell_type": "code",
   "execution_count": 1,
   "metadata": {},
   "outputs": [],
   "source": [
    "import numpy as np\n",
    "import imageio\n",
    "import mat73\n",
    "import os\n",
    "import cv2\n",
    "import random\n",
    "import time\n",
    "import csv\n",
    "import sys\n",
    "from skimage.measure import compare_ssim"
   ]
  },
  {
   "cell_type": "code",
   "execution_count": 2,
   "metadata": {},
   "outputs": [],
   "source": [
    "##global Variable default state\n",
    "global csv_file #defines csv_file as a global variable\n",
    "global pathtoHDRgt\n",
    "global csvPath\n",
    "global pathtoSDR\n",
    "global pathtoHDRgen\n",
    "global result\n",
    "csv_name = 'pictureData.csv'\n",
    "csvPath = './csv/'\n",
    "pathtoHDRgt = './groundTruthHDR/'\n",
    "pathtoSDR = './LDR/'\n",
    "pathtoHDRgen = './generatedHDR/'\n",
    "result = './results/'\n",
    "global HDRgtPic\n",
    "global SDRpic\n",
    "global HDRgenPic\n",
    "\n"
   ]
  },
  {
   "cell_type": "code",
   "execution_count": 3,
   "metadata": {},
   "outputs": [],
   "source": [
    "#Read Picture and return it\n",
    "\n",
    "def readThePicture(picturepath):\n",
    "    #  open ImageObject\n",
    "    try:\n",
    "        print('Reading <==== '+picturepath)\n",
    "        img = cv2.imread(picturepath, cv2.IMREAD_UNCHANGED)# | cv2.IMREAD_ANYCOLOR | cv2.IMREAD_ANYDEPTH)\n",
    "    except:\n",
    "        print('There was an error while reading the picture')\n",
    "        img = 0\n",
    "    return img"
   ]
  },
  {
   "cell_type": "code",
   "execution_count": 4,
   "metadata": {},
   "outputs": [],
   "source": [
    "def writeToCV(name, file):\n",
    "    print('Write data to '+name)\n",
    "    #np.savetxt(name, file, delimiter=\",\")\n",
    "    with open(name, 'w', ) as myfile:\n",
    "        wr = csv.writer(myfile, quoting=csv.QUOTE_ALL)\n",
    "        for word in file:\n",
    "            wr.writerows([word])  \n",
    "    "
   ]
  },
  {
   "cell_type": "code",
   "execution_count": 5,
   "metadata": {},
   "outputs": [],
   "source": [
    "def readCSV(file):\n",
    "    #https://docs.python.org/3/library/csv.html\n",
    "    print('Read data to '+str(name))\n",
    "    result = np.array(list(csv.reader(open(file, \"rb\"), delimiter=\",\"))).astype(\"float\")\n",
    "    return result"
   ]
  },
  {
   "cell_type": "code",
   "execution_count": 6,
   "metadata": {},
   "outputs": [],
   "source": [
    "def savePic(picture,fileName,extention,outPath): #saves the given array as a pictures to the given output path\n",
    "    outPath = outPath+fileName+'.'+extention\n",
    "    try:\n",
    "\n",
    "        #print(picture.shape)\n",
    "        print('Writing picture to ====> '+outPath)\n",
    "        cv2.imwrite(outPath,picture)\n",
    "        \n",
    "    except:\n",
    "        print('Failed while saving picture: '+fileName+' to '+ outPath+' sorry :(')\n",
    "        print('--------------------')"
   ]
  },
  {
   "cell_type": "code",
   "execution_count": 13,
   "metadata": {},
   "outputs": [],
   "source": [
    "def horStack(startPic,addPic):\n",
    "    try:\n",
    "        global SDRpic,HDRgtPic,HDRgenPic  \n",
    "        #together = np.vstack((SDRpic,HDRgenPic,HDRgtPic))\n",
    "        \n",
    "        together = np.hstack((startPic,addPic))\n",
    "        print(together.shape)\n",
    "    except:\n",
    "        print('Fail Pictures do not have the same size')\n",
    "        print('Ground Truth: '+str(HDRgtPic.shape))\n",
    "        print('Low Res pic: ' +str(SDRpic.shape))\n",
    "        print('Low Res pic: ' +str(SDRpic_new.shape))\n",
    "        print('Generated Picture: ' +str(HDRgenPic.shape))\n",
    "    return together "
   ]
  },
  {
   "cell_type": "code",
   "execution_count": null,
   "metadata": {},
   "outputs": [],
   "source": [
    "def vertStack(startPic,addPic):\n",
    "    try:\n",
    "        global SDRpic,HDRgtPic,HDRgenPic  \n",
    "        together = np.vstack((startPic,addPic))\n",
    "        print(together.shape)\n",
    "    except:\n",
    "        print('Fail Pictures do not have the same size')\n",
    "        print('Ground Truth: '+str(HDRgtPic.shape))\n",
    "        print('Low Res pic: ' +str(SDRpic.shape))\n",
    "        print('Low Res pic: ' +str(SDRpic_new.shape))\n",
    "        print('Generated Picture: ' +str(HDRgenPic.shape))\n",
    "    return together "
   ]
  },
  {
   "cell_type": "code",
   "execution_count": 8,
   "metadata": {},
   "outputs": [],
   "source": [
    "def scale(img,factor):\n",
    "    print('Scaling up factor SDR: '+str(factor))\n",
    "    scale = (int(img.shape[1])*factor, int(img.shape[0])*factor)       \n",
    "    img_new = cv2.resize(img, scale, interpolation = cv2.INTER_AREA)\n",
    "    return img_new"
   ]
  },
  {
   "cell_type": "code",
   "execution_count": 9,
   "metadata": {},
   "outputs": [],
   "source": [
    "# Usage:\n",
    "#\n",
    "# Based on: https://github.com/mostafaGwely/Structural-Similarity-Index-SSIM-\n",
    "#https://github.com/mostafaGwely/Structural-Similarity-Index-SSIM-/blob/master/ssim.py\n",
    "\n",
    "# 2. Construct the argument parse and parse the arguments\n",
    "#ap = argparse.ArgumentParser()\n",
    "#ap.add_argument(\"-f\", \"--first\", required=True, help=\"Directory of the image that will be compared\")\n",
    "#ap.add_argument(\"-s\", \"--second\", required=True, help=\"Directory of the image that will be used to compare\")\n",
    "#args = vars(ap.parse_args())\n",
    "\n",
    "# 3. Load the two input images\n",
    "#imageA = cv2.imread(args[\"first\"])\n",
    "#imageB = cv2.imread(args[\"second\"])\n",
    "def ssim(imageA,imageB):\n",
    "    # 4. Convert the images to grayscale\n",
    "    grayA = cv2.cvtColor(imageA, cv2.COLOR_BGR2GRAY) #image that will be compared\n",
    "    grayB = cv2.cvtColor(imageB, cv2.COLOR_BGR2GRAY) #image that will be used to compare\n",
    "\n",
    "    # 5. Compute the Structural Similarity Index (SSIM) between the two\n",
    "    #    images, ensuring that the difference image is returned\n",
    "    (score, diff) = compare_ssim(grayA, grayB, full=True)\n",
    "    diff = (diff * 255).astype(\"uint8\") #diff image needs to be uint16 and 16 bit?\n",
    "\n",
    "    # 6. You can print only the score if you want\n",
    "    print(\"SSIM: {}\".format(score))\n",
    "    return score"
   ]
  },
  {
   "cell_type": "code",
   "execution_count": 10,
   "metadata": {},
   "outputs": [],
   "source": [
    "def psnrfunc(img_orig, img_out):\n",
    "    img_out = (img_out / ((2**16)-1)).astype(np.float32)\n",
    "    img_orig = (img_orig / ((2**16)-1)).astype(np.float32)\n",
    "    psnr = cv2.PSNR(img_out, img_orig)\n",
    "    return psnr"
   ]
  },
  {
   "cell_type": "code",
   "execution_count": 11,
   "metadata": {},
   "outputs": [],
   "source": [
    "def text(Wtext,img):\n",
    "    #https://www.geeksforgeeks.org/python-opencv-cv2-puttext-method/\n",
    "    \n",
    "    # font\n",
    "    font = cv2.FONT_HERSHEY_SIMPLEX\n",
    "    \n",
    "    # fontScale\n",
    "    fontScale = 2\n",
    "    # org\n",
    "    img.shape[0]\n",
    "    org = (50*fontScale,int(img.shape[0])-50*fontScale)\n",
    "    print(org)\n",
    "    \n",
    "\n",
    "    # Blue color in BGR\n",
    "    color = (0, 0, ((2**16)-1))\n",
    "\n",
    "    # Line thickness of 2 px\n",
    "    thickness = 5\n",
    "\n",
    "    # Using cv2.putText() method\n",
    "    image = cv2.putText(img, Wtext, org, font, \n",
    "                       fontScale, color, thickness, cv2.LINE_AA)\n",
    "    return image"
   ]
  },
  {
   "cell_type": "code",
   "execution_count": 12,
   "metadata": {},
   "outputs": [],
   "source": [
    "def inputData():\n",
    "    global csv_file #defines csv_file as a global variable\n",
    "    global pathtoHDRgt\n",
    "    global csvPath\n",
    "    global pathtoSDR\n",
    "    global pathtoHDRgen\n",
    "    global result\n",
    "    \n",
    "    print('This script stiches three pictures together in the Order: ')\n",
    "    print('Ground Trouth, SDR inputpicture, Generated HDR Picture')\n",
    "    result = input('Enter path for the results (default: '+result+'): ') or result\n",
    "    \n",
    "    if not os.path.exists(result):\n",
    "        os.mkdir(result)\n",
    "    csv_name = input('Enter the .csv file name (default: pictureData): ') or ('pictureData') +('.csv')\n",
    "    csvPath = input('Enter the path to save Path file (deflaut: '+csvPath+'): ') or ('./csv/')\n",
    "    if not os.path.exists(csvPath):\n",
    "        os.mkdir(csvPath)\n",
    "    pathtoHDRgt = input('Enter the path to the Ground Truth Picture (deflaut: '+pathtoHDRgt+') ') or pathtoHDRgt\n",
    "    if not os.path.exists(pathtoHDRgt):\n",
    "        os.mkdir(pathtoHDRgt)\n",
    "    pathtoSDR = input('Enter the path to the SDR inputpicture (deflaut: '+pathtoSDR+') ') or pathtoSDR\n",
    "    if not os.path.exists(pathtoSDR):\n",
    "        os.mkdir(pathtoSDR)\n",
    "    pathtoHDRgen = input('Enter the path to the Generated HDR Picture (deflaut: '+pathtoHDRgen+') ') or pathtoHDRgen\n",
    "    if not os.path.exists(pathtoHDRgen):\n",
    "        os.mkdir(pathtoHDRgen)\n",
    "    \n",
    "    assert os.path.exists(csvPath), \"I did not find the path \"+str(csvPath)\n",
    "    csv_file = open(csv_name, 'w')\n",
    "    csv_file = csv.writer(csv_file)\n",
    "    amountOfPictures = int(sum(1 for f in os.listdir(pathtoHDRgt) if f.endswith('.'+(os.listdir(pathtoHDRgt)[1].split('.')[1]))))\n",
    "    print(amountOfPictures)\n",
    "    global psnr\n",
    "    psnr = np.zeros((amountOfPictures+1,3)).astype(np.float32)"
   ]
  },
  {
   "cell_type": "code",
   "execution_count": 14,
   "metadata": {
    "scrolled": true
   },
   "outputs": [
    {
     "name": "stdout",
     "output_type": "stream",
     "text": [
      "This script stiches three pictures together in the Order: \n",
      "Ground Trouth, SDR inputpicture, Generated HDR Picture\n",
      "Enter path for the results (default: ./results/): \n",
      "Enter the .csv file name (default: pictureData): \n",
      "Enter the path to save Path file (deflaut: ./csv/): \n",
      "Enter the path to the Ground Truth Picture (deflaut: ./groundTruthHDR/) \n",
      "Enter the path to the SDR inputpicture (deflaut: ./LDR/) \n",
      "Enter the path to the Generated HDR Picture (deflaut: ./generatedHDR/) \n",
      "439\n",
      "0\n",
      "Reading <==== ./generatedHDR/000387.png\n",
      "Reading <==== ./LDR/000387.png\n",
      "Reading <==== ./groundTruthHDR/000387.png\n"
     ]
    },
    {
     "name": "stderr",
     "output_type": "stream",
     "text": [
      "<ipython-input-9-61ebaa872922>:22: UserWarning: DEPRECATED: skimage.measure.compare_ssim has been moved to skimage.metrics.structural_similarity. It will be removed from skimage.measure in version 0.18.\n",
      "  (score, diff) = compare_ssim(grayA, grayB, full=True)\n"
     ]
    },
    {
     "name": "stdout",
     "output_type": "stream",
     "text": [
      "SSIM: 0.5854307673977346\n",
      "361.202\n",
      "65.8223\n",
      "(100, 740)\n",
      "(100, 740)\n",
      "(100, 740)\n",
      "(840, 3360, 3)\n",
      "There was an error while finding the pictures to compare\n",
      "Picture name to find: 000387\n",
      "Write data to pictureData.csv\n",
      "Finished and it took: 0.10932358503341674minutes\n"
     ]
    }
   ],
   "source": [
    "start_time = time.time() #start the timeing of the Prgramm\n",
    "#finding the rigth picture pairs in paths\n",
    "#global HDRgtPic\n",
    "\n",
    "#global HDRgenPic\n",
    "i = 0\n",
    "inputData()\n",
    "try:\n",
    "    while( (sum(1 for f in os.listdir(pathtoHDRgen)))-1 >= i ):\n",
    "        if((os.listdir(pathtoHDRgen)[i].split('.')[1]) != 'png'):\n",
    "            i = i + 1    \n",
    "        else:\n",
    "            print(i)\n",
    "            currentFileName = os.listdir(pathtoHDRgen)[i]\n",
    "            i = i+1\n",
    "            picName = currentFileName.split('.')[0]\n",
    "            HDRgenPic = readThePicture(pathtoHDRgen+currentFileName)\n",
    "            #search for the right picture with the same name but different ending\n",
    "            foundFileSDR = False\n",
    "            posSDR = 0\n",
    "            while(foundFileSDR != True):\n",
    "                if(picName == (os.listdir(pathtoSDR)[posSDR].split('.')[0])):\n",
    "                    currentFileName = os.listdir(pathtoSDR)[posSDR]\n",
    "                    SDRpic = readThePicture(str(pathtoSDR+currentFileName))\n",
    "                    SDRpic = SDRpic/((2**8)-1)\n",
    "                    SDRpic = (SDRpic*((2**16)-1)).astype(np.uint16)\n",
    "                    foundFileSDR = True\n",
    "                posSDR = posSDR + 1\n",
    "\n",
    "            foundFileGT = False\n",
    "            posGT = 0\n",
    "            while(foundFileGT != True):\n",
    "                if(picName == (os.listdir(pathtoHDRgt)[posGT].split('.')[0])):\n",
    "                    currentFileName = os.listdir(pathtoHDRgt)[posGT]\n",
    "                    HDRgtPic = readThePicture(str(pathtoHDRgt+currentFileName))\n",
    "                    foundFileGT = True\n",
    "                posGT = posGT + 1\n",
    "            \n",
    "            if(HDRgtPic.shape != SDRpic.shape != HDRgenPic.shape): ##upsizing if needed\n",
    "                factor = int(HDRgtPic.shape[1]/SDRpic.shape[1])\n",
    "                SDRpic = scale(SDRpic,factor)\n",
    "            psnr[i,2] = ssim(HDRgtPic,HDRgenPic)\n",
    "            psnr[i,0] = psnrfunc(HDRgtPic,HDRgtPic)\n",
    "            print(psnr[i,0])\n",
    "            psnr[i,1] = psnrfunc(HDRgtPic,HDRgenPic) \n",
    "            print(psnr[i,1])\n",
    "            HDRgenPic = text('PSNR: '+str(psnr[i,1])+' SSIM: '+str(psnr[i,2])+'_generated HDR',HDRgenPic)\n",
    "            HDRgtPic = text('Ground truth high dynamic range (HDR)',HDRgtPic)\n",
    "            SDRpic = text('standard dynamic range (SDR)',SDRpic)\n",
    "            picTure = horStack(SDRpic,HDRgenPic)\n",
    "            picTrue = horStack(picTrue,HDRgtPic)\n",
    "            \n",
    "            savePic(picTure,(str(i)+'Result_'+picName),'png',result)\n",
    "            #if(colorSpaceAnal == True ):\n",
    "            #    savePic(picTure[:,:,0]*255,(str(i)+'Result_ColorSpace'+picName),'png',result)\n",
    "             #   savePic(picTure[],(str(i)+'Result_ColorSpace'+picName),'png',result)\n",
    "              #  savePic(picTure[],(str(i)+'Result_ColorSpace'+picName),'png',result)\n",
    "        \n",
    "except: \n",
    "    print('There was an error while finding the pictures to compare')\n",
    "    print('Picture name to find: '+picName)\n",
    "writeToCV(csv_name, psnr)\n",
    "print('Finished and it took: '+str((time.time() - start_time)/60)+'minutes')"
   ]
  },
  {
   "cell_type": "code",
   "execution_count": 14,
   "metadata": {},
   "outputs": [],
   "source": [
    "#savePic(together(),(str(i)+'Result_'+picName),'png',result)\n",
    "\n",
    "#psnr[0,0] = psnrfunc(HDRgtPic,HDRgenPic)\n",
    "#writeToCV('./csv/pictureData.csv', psnr)\n",
    "#scale(SDRpic,factor)"
   ]
  },
  {
   "cell_type": "code",
   "execution_count": 15,
   "metadata": {},
   "outputs": [],
   "source": [
    "#P = readThePicture('/Users/littledragon/Documents/BA 13022020/programme/PicCompare/LDR/000019.png')\n",
    "#P = P/((2**8)-1)\n",
    "#P = (P*((2**16)-1)).astype(np.uint16)\n",
    "#savePic(P,'Result_Test','png','/Users/littledragon/Documents/BA 13022020/programme/PicCompare/LDR')\n"
   ]
  },
  {
   "cell_type": "code",
   "execution_count": 16,
   "metadata": {},
   "outputs": [],
   "source": [
    "#python3 main.py --phase test_mat --scale_factor 2 --train_data_path_LR_SDR /mnt/Data/nige8437/MdataPicPrep/matOut/SDR_trainData.mat --train_data_path_HR_HDR /mnt/Data/nige8437/MdataPicPrep/matOut/HDR_trainData.mat --test_data_path_LR_SDR /mnt/Data/nige8437/MdataPicPrep/matOut/SDR_dataReinhard.mat --test_data_path_HR_HDR /mnt/Data/nige8437/MdataPicPrep/matOut/HDR_dataReinhard.mat --test_img_dir /mnt/Data/nige8437/jsigan/reinhard/"
   ]
  },
  {
   "cell_type": "code",
   "execution_count": 20,
   "metadata": {},
   "outputs": [
    {
     "name": "stdout",
     "output_type": "stream",
     "text": [
      "(840, 3360, 3)\n",
      "(840, 5040, 3)\n",
      "Writing picture to ====> /Users/littledragon/Documents/BA 13022020/programme/PicCompare/results/Result_Test.png\n"
     ]
    }
   ],
   "source": [
    "a = together(SDRpic,HDRgenPic)\n",
    "a = together(a,HDRgtPic)\n",
    "savePic(a,'Result_Test','png','/Users/littledragon/Documents/BA 13022020/programme/PicCompare/results/')"
   ]
  },
  {
   "cell_type": "code",
   "execution_count": null,
   "metadata": {},
   "outputs": [],
   "source": []
  }
 ],
 "metadata": {
  "kernelspec": {
   "display_name": "Python 3",
   "language": "python",
   "name": "python3"
  },
  "language_info": {
   "codemirror_mode": {
    "name": "ipython",
    "version": 3
   },
   "file_extension": ".py",
   "mimetype": "text/x-python",
   "name": "python",
   "nbconvert_exporter": "python",
   "pygments_lexer": "ipython3",
   "version": "3.9.1"
  }
 },
 "nbformat": 4,
 "nbformat_minor": 2
}

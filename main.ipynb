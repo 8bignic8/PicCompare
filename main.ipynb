{
 "cells": [
  {
   "cell_type": "code",
   "execution_count": 2,
   "metadata": {},
   "outputs": [],
   "source": [
    "import numpy as np\n",
    "import imageio\n",
    "import mat73\n",
    "import os\n",
    "import cv2\n",
    "import random\n",
    "import time\n",
    "import csv\n",
    "import sys"
   ]
  },
  {
   "cell_type": "code",
   "execution_count": 3,
   "metadata": {},
   "outputs": [],
   "source": [
    "##global Variable default state\n",
    "csv_name = 'pictureData.csv'\n",
    "csvPath = './csv/'\n",
    "pathtoHDRgt = './groundTruthHDR/'\n",
    "pathtoSDR = './LDR/'\n",
    "pathtoHDRgen = './generatedHDR/'\n",
    "result = './results/'\n",
    "global HDRgtPic\n",
    "global SDRpic\n",
    "global HDRgenPic"
   ]
  },
  {
   "cell_type": "code",
   "execution_count": 4,
   "metadata": {},
   "outputs": [],
   "source": [
    "#Read Picture and return it\n",
    "\n",
    "def readThePicture(picturepath):\n",
    "    #  open ImageObject\n",
    "    try:\n",
    "        print('<<<====Reading'+picturepath)\n",
    "        img = cv2.imread(picturepath, cv2.IMREAD_UNCHANGED)# | cv2.IMREAD_ANYCOLOR | cv2.IMREAD_ANYDEPTH)\n",
    "    except:\n",
    "        print('There was an error while reading the picture')\n",
    "        img = 0\n",
    "    return img"
   ]
  },
  {
   "cell_type": "code",
   "execution_count": 5,
   "metadata": {},
   "outputs": [],
   "source": [
    "def writeToCV(file):\n",
    "    #https://docs.python.org/3/library/csv.html\n",
    "    with open(csv_name, 'w', newline='') as f:\n",
    "        csv_file = csv.writer(f)\n",
    "        csv_file.writerows([file])"
   ]
  },
  {
   "cell_type": "code",
   "execution_count": 6,
   "metadata": {},
   "outputs": [],
   "source": [
    "def readCSV():\n",
    "    #https://docs.python.org/3/library/csv.html\n",
    "    with open(csv_name, newline='') as f:\n",
    "        reader = csv.reader(f)\n",
    "        for row in reader:\n",
    "            return(row)"
   ]
  },
  {
   "cell_type": "code",
   "execution_count": 7,
   "metadata": {},
   "outputs": [],
   "source": [
    "def savePic(picture,fileName,extention,outPath): #saves the given array as a pictures to the given output path\n",
    "    outPath = outPath+fileName+'.'+extention\n",
    "    try:\n",
    "\n",
    "        print(picture.shape)\n",
    "        print('writePicture')\n",
    "        cv2.imwrite(outPath,picture)\n",
    "        print(outPath+'<=== Writing')\n",
    "    except:\n",
    "        print('Failed while saving picture: '+fileName+' to '+ outPath+' sorry :(')\n",
    "        print('--------------------')"
   ]
  },
  {
   "cell_type": "code",
   "execution_count": 8,
   "metadata": {},
   "outputs": [],
   "source": [
    "def together():\n",
    "    print('Moi')\n",
    "\n",
    "    if(HDRgtPic.shape != SDRpic.shape != HDRgenPic.shape):\n",
    "        print('Fail Pictures do not have the same size')\n",
    "        print('Ground Truth: '+HDRgtPic.shape)\n",
    "        print('Low Res pic: ' +SDRpic.shape)\n",
    "        print('Generated Picture: ' +HDRgenPic.shape)\n",
    "        \n",
    "    together = np.hstack((SDRpic,HDRgenPic,HDRgtPic))\n",
    "    print(together.shape)\n",
    "    return together "
   ]
  },
  {
   "cell_type": "code",
   "execution_count": 9,
   "metadata": {},
   "outputs": [],
   "source": [
    "def psnr(img_orig, img_out, peak):\n",
    "    mse = np.mean(np.square(img_orig - img_out))\n",
    "    psnr = 10 * np.log10(peak * peak / mse)"
   ]
  },
  {
   "cell_type": "code",
   "execution_count": 10,
   "metadata": {},
   "outputs": [],
   "source": [
    "def inputData():\n",
    "    global csv_file #defines csv_file as a global variable\n",
    "    global pathtoHDRgt\n",
    "    global csvPath\n",
    "    global pathtoSDR\n",
    "    global pathtoHDRgen\n",
    "    global result\n",
    "    \n",
    "    print('This script stiches three pictures together in the Order: ')\n",
    "    print('Ground Trouth, SDR inputpicture, Generated HDR Picture')\n",
    "    result = input('Enter path for the results (default: '+result+'): ') or result\n",
    "    \n",
    "    if not os.path.exists(result):\n",
    "        os.mkdir(result)\n",
    "    csv_name = input('Enter the .csv file name (default: pictureData): ') or ('pictureData') +('.csv')\n",
    "    csvPath = input('Enter the path to save Path file (deflaut: '+csvPath+'): ') or ('./csv/')\n",
    "    pathtoHDRgt = input('Enter the path to the Ground Truth Picture (deflaut: '+pathtoHDRgt+') ') or pathtoHDRgt\n",
    "\n",
    "    pathtoSDR = input('Enter the path to the SDR inputpicture (deflaut: '+pathtoSDR+') ') or pathtoSDR\n",
    "    if not os.path.exists(pathtoSDR):\n",
    "        os.mkdir(pathtoSDR)\n",
    "    pathtoHDRgen = input('Enter the path to the Generated HDR Picture (deflaut: '+pathtoHDRgen+') ') or pathtoHDRgen\n",
    "    if not os.path.exists(pathtoHDRgen):\n",
    "        os.mkdir(pathtoHDRgen)\n",
    "    \n",
    "    assert os.path.exists(csvPath), \"I did not find the path \"+str(csvPath)\n",
    "    csv_file = open(csv_name, 'w')\n",
    "    csv_file = csv.writer(csv_file)"
   ]
  },
  {
   "cell_type": "code",
   "execution_count": 11,
   "metadata": {},
   "outputs": [
    {
     "name": "stdout",
     "output_type": "stream",
     "text": [
      "This script stiches three pictures together in the Order: \n",
      "Ground Trouth, SDR inputpicture, Generated HDR Picture\n",
      "Enter path for the results (default: ./results/): \n",
      "Enter the .csv file name (default: pictureData): \n",
      "Enter the path to save Path file (deflaut: ./csv/): \n",
      "Enter the path to the Ground Truth Picture (deflaut: ./groundTruthHDR/) \n",
      "Enter the path to the SDR inputpicture (deflaut: ./LDR/) \n",
      "Enter the path to the Generated HDR Picture (deflaut: ./generatedHDR/) \n",
      "0\n",
      "<<<====Reading./generatedHDR/00003.png\n",
      "<<<====Reading./LDR/00003.png\n",
      "<<<====Reading./groundTruthHDR/00003.png\n",
      "Moi\n",
      "(600, 1260, 3)\n",
      "(600, 1260, 3)\n",
      "writePicture\n",
      "./results/1Result_00003.png<=== Writing\n",
      "1\n",
      "<<<====Reading./generatedHDR/000000.png\n",
      "<<<====Reading./LDR/000000.png\n",
      "<<<====Reading./groundTruthHDR/000000.png\n",
      "Moi\n",
      "(600, 1260, 3)\n",
      "(600, 1260, 3)\n",
      "writePicture\n",
      "./results/2Result_000000.png<=== Writing\n"
     ]
    }
   ],
   "source": [
    "#finding the rigth picture pairs in paths\n",
    "#global HDRgtPic\n",
    "#global SDRpic\n",
    "#global HDRgenPic\n",
    "i = 0\n",
    "inputData()\n",
    "try:\n",
    "    while( (sum(1 for f in os.listdir(pathtoHDRgen)))-1 >= i ):\n",
    "        print(i)\n",
    "        currentFileName = os.listdir(pathtoHDRgen)[i]\n",
    "        i = i+1\n",
    "        picName = currentFileName.split('.')[0]\n",
    "        HDRgenPic = readThePicture(pathtoHDRgen+currentFileName)\n",
    "        #search for the right picture with the same name but different ending\n",
    "        foundFileSDR = False\n",
    "        posSDR = 0\n",
    "        while(foundFileSDR != True):\n",
    "            if(picName == (os.listdir(pathtoSDR)[posSDR].split('.')[0])):\n",
    "                currentFileName = os.listdir(pathtoSDR)[posSDR]\n",
    "                SDRpic = readThePicture(str(pathtoSDR+currentFileName))\n",
    "                foundFileSDR = True\n",
    "            posSDR = posSDR + 1\n",
    "\n",
    "        foundFileGT = False\n",
    "        posGT = 0\n",
    "        while(foundFileGT != True):\n",
    "            if(picName == (os.listdir(pathtoHDRgt)[posGT].split('.')[0])):\n",
    "                currentFileName = os.listdir(pathtoHDRgt)[posGT]\n",
    "                HDRgtPic = readThePicture(str(pathtoHDRgt+currentFileName))\n",
    "                foundFileGT = True\n",
    "            posGT = posGT + 1\n",
    "        picTure = together()\n",
    "        #print(picTure.shape+'h')\n",
    "        savePic(picTure,(str(i)+'Result_'+picName),'png',result)\n",
    "        if(colorSpaceAnal == True ):\n",
    "            savePic(picTure[:,:,0]*255,(str(i)+'Result_ColorSpace'+picName),'png',result)\n",
    "            savePic(picTure[],(str(i)+'Result_ColorSpace'+picName),'png',result)\n",
    "            savePic(picTure[],(str(i)+'Result_ColorSpace'+picName),'png',result)\n",
    "        \n",
    "        \n",
    "except: \n",
    "    print('There was an error while fining the pictures to compare')\n",
    "    print('Picture name to find: '+picName)"
   ]
  },
  {
   "cell_type": "code",
   "execution_count": 10,
   "metadata": {},
   "outputs": [],
   "source": [
    "\n",
    "#savePic(together(),(str(i)+'Result_'+picName),'png',result)\n"
   ]
  },
  {
   "cell_type": "code",
   "execution_count": null,
   "metadata": {},
   "outputs": [],
   "source": []
  }
 ],
 "metadata": {
  "kernelspec": {
   "display_name": "Python 3",
   "language": "python",
   "name": "python3"
  },
  "language_info": {
   "codemirror_mode": {
    "name": "ipython",
    "version": 3
   },
   "file_extension": ".py",
   "mimetype": "text/x-python",
   "name": "python",
   "nbconvert_exporter": "python",
   "pygments_lexer": "ipython3",
   "version": "3.7.4"
  }
 },
 "nbformat": 4,
 "nbformat_minor": 2
}

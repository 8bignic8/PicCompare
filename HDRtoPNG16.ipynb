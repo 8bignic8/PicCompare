{
 "cells": [
  {
   "cell_type": "code",
   "execution_count": 1,
   "id": "incredible-handling",
   "metadata": {},
   "outputs": [],
   "source": [
    "import cv2\n",
    "import sys\n",
    "import os\n",
    "import numpy as np"
   ]
  },
  {
   "cell_type": "code",
   "execution_count": 2,
   "id": "frozen-reduction",
   "metadata": {},
   "outputs": [],
   "source": [
    "def savePic(picture,fileName,extention,outPath): #saves the given array as a pictures to the given output path\n",
    "    outPath = outPath+fileName+'.'+extention\n",
    "    try:\n",
    "\n",
    "        #print(picture.shape)\n",
    "        print('Writing picture to ====> '+outPath)\n",
    "        cv2.imwrite(outPath,picture)\n",
    "        \n",
    "    except:\n",
    "        print('Failed while saving picture: '+fileName+' to '+ outPath+' sorry :(')\n",
    "        print('--------------------')"
   ]
  },
  {
   "cell_type": "code",
   "execution_count": 3,
   "id": "aggressive-witch",
   "metadata": {},
   "outputs": [],
   "source": [
    "#Read Picture and return it\n",
    "\n",
    "def readThePicture(picturepath):\n",
    "    #  open ImageObject\n",
    "    try:\n",
    "        print('Reading <==== '+picturepath)\n",
    "        img = cv2.imread(picturepath, cv2.IMREAD_UNCHANGED)# | cv2.IMREAD_ANYCOLOR | cv2.IMREAD_ANYDEPTH)\n",
    "    except:\n",
    "        print('There was an error while reading the picture')\n",
    "        img = 0\n",
    "    return img"
   ]
  },
  {
   "cell_type": "code",
   "execution_count": null,
   "id": "orange-sheet",
   "metadata": {},
   "outputs": [],
   "source": [
    "inputPathHDR = input('spezify the input path of .hdr pictures [default: ./hdrOut/ ] ') or './hdrInput/' #set the picture save path if it is choosen\n",
    "if not os.path.exists(inputPathHDR):\n",
    "        os.mkdir(inputPathHDR)\n",
    "outPath = input('spezify the output path of .png16bit pictures [default: ./generatedHDR/ ] ') or './convHDRpng/' #set the picture save path if it is choosen\n",
    "if not os.path.exists(outPath):\n",
    "        os.mkdir(outPath)"
   ]
  },
  {
   "cell_type": "code",
   "execution_count": null,
   "id": "documented-nightmare",
   "metadata": {
    "scrolled": true
   },
   "outputs": [],
   "source": [
    "print('converting .hdr into .png 16bit files')\n",
    "i = 0\n",
    "\n",
    "import os, os.path\n",
    "\n",
    "# simple version for working with CWD\n",
    "while(len(os.listdir(inputPathHDR)) >= i ):\n",
    "    try:\n",
    "    \n",
    "        if((os.listdir(inputPathHDR)[i].split('.')[1]) != 'hdr'):\n",
    "                i = i + 1\n",
    "                print('Fail at picture: '+os.listdir(inputPathHDR)[i])\n",
    "        if((os.listdir(inputPathHDR)[i].split('.')[1]) == 'hdr'):\n",
    "            name = os.listdir(inputPathHDR)[i]\n",
    "            pic = (readThePicture(inputPathHDR+name))#.astype(np.float32)\n",
    "            #print(i)\n",
    "            #print(pic.min())\n",
    "            pic = (np.clip((pic*((2**16)-1)),0,((2**16)-1))).astype(np.uint16)\n",
    "            saveName = name.split('_')[0]\n",
    "            savePic(pic,saveName,'png',outPath)\n",
    "        i = i + 1\n",
    "        print(i)\n",
    "    except:\n",
    "        print('')\n",
    "        i = i + 1\n",
    "print('DONE.')"
   ]
  }
 ],
 "metadata": {
  "kernelspec": {
   "display_name": "Python 3",
   "language": "python",
   "name": "python3"
  },
  "language_info": {
   "codemirror_mode": {
    "name": "ipython",
    "version": 3
   },
   "file_extension": ".py",
   "mimetype": "text/x-python",
   "name": "python",
   "nbconvert_exporter": "python",
   "pygments_lexer": "ipython3",
   "version": "3.9.1"
  }
 },
 "nbformat": 4,
 "nbformat_minor": 5
}
